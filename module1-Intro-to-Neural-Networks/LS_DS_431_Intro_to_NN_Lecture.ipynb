{
  "nbformat": 4,
  "nbformat_minor": 0,
  "metadata": {
    "colab": {
      "name": "LS_DS_431_Intro_to_NN_Lecture.ipynb",
      "provenance": [],
      "include_colab_link": true
    },
    "kernelspec": {
      "display_name": "U4-S2-NNF (Python 3.7)",
      "language": "python",
      "name": "u4-s2-nnf"
    },
    "language_info": {
      "codemirror_mode": {
        "name": "ipython",
        "version": 3
      },
      "file_extension": ".py",
      "mimetype": "text/x-python",
      "name": "python",
      "nbconvert_exporter": "python",
      "pygments_lexer": "ipython3",
      "version": "3.7.3"
    },
    "toc-autonumbering": false,
    "toc-showcode": false,
    "toc-showmarkdowntxt": false
  },
  "cells": [
    {
      "cell_type": "markdown",
      "metadata": {
        "id": "view-in-github",
        "colab_type": "text"
      },
      "source": [
        "<a href=\"https://colab.research.google.com/github/worldwidekatie/DS-Unit-4-Sprint-2-Neural-Networks/blob/main/module1-Intro-to-Neural-Networks/LS_DS_431_Intro_to_NN_Lecture.ipynb\" target=\"_parent\"><img src=\"https://colab.research.google.com/assets/colab-badge.svg\" alt=\"Open In Colab\"/></a>"
      ]
    },
    {
      "cell_type": "markdown",
      "metadata": {
        "colab_type": "text",
        "id": "iAJaRSseDCrU"
      },
      "source": [
        "Lambda School Data Science\n",
        "\n",
        "*Unit 4, Sprint 2, Module 1*\n",
        "\n",
        "---"
      ]
    },
    {
      "cell_type": "markdown",
      "metadata": {
        "colab_type": "text",
        "toc-hr-collapsed": true,
        "id": "Mq6jSS_C7R42"
      },
      "source": [
        "# Neural Networks (Prepare)"
      ]
    },
    {
      "cell_type": "markdown",
      "metadata": {
        "colab_type": "text",
        "id": "rwSS0rwu7R46"
      },
      "source": [
        "## Learning Objectives\n",
        "* <a href=\"#p1\">Part 1</a>: Describe the foundational components of a neural network\n",
        "* <a href=\"#p2\">Part 2</a>: Implement a Perceptron from scratch in Python\n",
        "\n",
        "Neural Networks are a whole new area of study and application that can be intimidating, but which represents some of the most powerful tools and techniques that we possess in machine learning today. In spite of the hype surrounding these topics I hope that you will come to see them as just another tool in your tool bag with their own strengths and weaknesses. They are useful, but they are not a silver bullet, and they are not always preferable to other -perhaps more simple- machine learning methods. \n",
        "\n",
        "The goal of this week is to familiarize you with the fundamental theory, terminology and libraries that will enable you to approach different neural network architectures (called topologies) in a sophisticated manner. This week will not be a run-through of the history of Neural Networks and each of the individual advancements leading up to current technologies -we don't have time for that. We will spend some time on some older methods, but only to the degree that they will help introduce us to relevant terminology and understand more complex versions of these technologies."
      ]
    },
    {
      "cell_type": "markdown",
      "metadata": {
        "colab_type": "text",
        "id": "vCyHLvj4HsrQ",
        "toc-hr-collapsed": false
      },
      "source": [
        "# Foundational Components of Neural Networks (Learn)\n",
        "<a id=\"p1\"></a>"
      ]
    },
    {
      "cell_type": "markdown",
      "metadata": {
        "colab_type": "text",
        "toc-hr-collapsed": false,
        "id": "DvRfMgxj7R4-"
      },
      "source": [
        "## Overview\n",
        "\n",
        "Neural Networks aren't exactly a new technology, but recent breakthroughs have revitalized the area. The idea using math to represent the brain has been around since 1943, and the \"Perceptron\" - one of the basic building blocks of the technology- was invented in 1958. \n",
        "\n",
        "Artificial Neural Networks are a computational model that was inspired by how neural networks in the brain process information. In the brain electrochemical signals flow from earlier neurons through the dendrites of the cell toward the cell body. If the received signals surpass a certain threshold with a given timing then the neuron fires sending a large spike of energy down the axon and through the axon terminals to other neurons down the line. \n",
        "\n",
        "![Wikipedia Neuron Diagram](https://upload.wikimedia.org/wikipedia/commons/thumb/b/b5/Neuron.svg/500px-Neuron.svg.png)\n",
        "\n",
        "In Artificial Neural Networks the neurons or \"nodes\" are similar in that they receive inputs and pass on their signal to the next layer of nodes if a certain threshold is reached, but that's about where the similarities end. Remember that ANNs are not brains. Don't fall into the common trap of assuming that if an Artificial Neural Network has as many nodes as the human brain that it will be just as powerful or just as capable. The goal with ANNs is not to create a realistic model of the brain but to craft robust algorithms and data structures that can model the complex relationships found in data."
      ]
    },
    {
      "cell_type": "markdown",
      "metadata": {
        "colab_type": "text",
        "id": "WUaY3-inOrea",
        "toc-hr-collapsed": true
      },
      "source": [
        "## Follow Along\n",
        "\n",
        "Say you want to buy a house, you're quoted $400,000 for a 2000 square foot house. Is that good? Is that bad? How can we know? Well, we can gather up some more prices of other homes in the area and their square footages to compare.\n",
        "\n",
        "| Square Footage | Price  |\n",
        "|----------------|--------|\n",
        "| 2104           | 399900 |\n",
        "| 1600           | 329900 |\n",
        "| 2400           | 369000 |\n",
        "\n",
        "Ok, so now we have a little bit more data to compare to, how can we compare the price that we're getting to the prices of these houses? We can't compare price directly because all of these homes are different sizes, so we decide to calculate an average price per square foot for these three homes and we'll compare that to the average square footage price for the house that we have been looking at.\n",
        "\n",
        "What does our neural network predict should be the price of the house that we are looking at?"
      ]
    },
    {
      "cell_type": "markdown",
      "metadata": {
        "colab_type": "text",
        "id": "28tLn2-XSe7y"
      },
      "source": [
        "price = 2000 * 180\n",
        "print(price)"
      ]
    },
    {
      "cell_type": "markdown",
      "metadata": {
        "colab_type": "text",
        "id": "LhhsQFuyVuR0",
        "toc-hr-collapsed": true
      },
      "source": [
        "### Node Maps\n",
        "\n",
        "We've created our first *extremely* basic neural network, it takes an input, modifies it by a weight (180) and reports an output. Please, instead of thinking about neural networks as if they were brains think about them as a function or a \"mapping\" from inputs to outputs just like we have established many times before. \n",
        "\n",
        "![A Mapping](http://jalammar.github.io/images/NNs_formula_no_bias.png)\n",
        "\n",
        "What we have here above is what's known as a \"Node Map\" it's a visual diagram of the architecture or \"topology\" of our neural network. It's kind of like a flow chart in that it shows the path from inputs to outputs. They are usually color coded and help us understand at a very high level, some of the differences in architecture between kinds of neural networks. Just like with all the areas of machine learning that we have studied before there is a \"[zoo](http://www.asimovinstitute.org/neural-network-zoo/)\" of neural network architectures:\n",
        "\n",
        "![Neural Network Zoo](http://www.asimovinstitute.org/wp-content/uploads/2016/09/neuralnetworks.png)\n",
        "\n",
        "  "
      ]
    },
    {
      "cell_type": "markdown",
      "metadata": {
        "colab_type": "text",
        "id": "6fYbPmJ-ZDWt"
      },
      "source": [
        "### Types of Layers:\n",
        "\n",
        "There are three main types of neuron layers in a typical NN topology:"
      ]
    },
    {
      "cell_type": "markdown",
      "metadata": {
        "colab_type": "text",
        "id": "ygmm5pVK7R5K"
      },
      "source": [
        "#### Input or Visible Layers\n",
        "\n",
        "The Input Layer is what receives input from our dataset. Sometimes it is called the visible layer because it's the only part that is exposed to our data and that our data interacts with directly. Typically node maps are drawn with one input node for each of the different inputs/features/columns of our dataset that will be passed to the network.\n",
        "\n",
        "#### Hidden Layers\n",
        "\n",
        "Layers after the input layer are called Hidden Layers. This is because they cannot be accessed except through the input layer. They're inside of the network and they perform their functions, but we don't directly interact with them. The simplest possible network is to have a single neuron in the hidden layer that just outputs the value. \"Deep Learning\" apart from being a big buzzword simply means that we are using a Neural Network that has multiple hidden layers. \"Deep Learning\" is a big part of the renewed hype around ANNs because it allows networks that are structured in specific ways to accomplish tasks that were previously out of reach (image recognition for example).  \n",
        "\n",
        "#### Output Layers\n",
        "\n",
        "The final layer is called the Output Layer. The purpose of the output layer is to output a vector of values that is in a format that is suitable for the type of problem that we're trying to address. Typically the output value is modified by an \"activation function\" to transform it into a format that makes sense for our context, here's a couple of examples:\n",
        "\n",
        "- NNs applied to a regression problem might have a single output node with no activation function because what we want is an unbounded continuous value.\n",
        "\n",
        "- NNS applied to a binary classification problem might use a sigmoid function as its activation function in order to squishify values down to represent a probability. Outputs in this case would represent the probability of predicting the primary class of interest. We can turn this into a class-specific prediction by rounding the outputted sigmoid probability up to 1 or down to 0. \n",
        "\n",
        "- NNS applied to multiclass classification problems might have multiple output nodes in the output layer, one for each class that we're trying to predict. This output layer would probably employ what's called a \"softmax function\" for accomplishing this. Don't worry about how that activation function works just yet, we'll get to it soon.\n"
      ]
    },
    {
      "cell_type": "markdown",
      "metadata": {
        "colab_type": "text",
        "id": "hbOJUGsddcJA"
      },
      "source": [
        "### Back to our House Problem\n",
        "\n",
        " Is a neural network that predicts home prices based on the average square footage of homes in the are a good one? How can we evaluate the quality of our predictions?\n",
        " \n",
        "We evaluate the quality of our predictions just like we would any machine learning algorithm. We look at what the algorithm predicted and compare it to the actual price to see how far off we are. We know that our predictions are getting better if our predictions get closer to the actual prices in our training data / testing data. \n",
        "\n",
        "So how is our Neural Network doing?"
      ]
    },
    {
      "cell_type": "code",
      "metadata": {
        "colab_type": "code",
        "id": "zxnRa-bzB-m2",
        "colab": {
          "base_uri": "https://localhost:8080/",
          "height": 142
        },
        "outputId": "913763eb-dd56-42f2-d5f0-574be1429ab7"
      },
      "source": [
        "import pandas as pd\n",
        "import matplotlib.pyplot as plt\n",
        "\n",
        "x = [2104, 1600, 2400]\n",
        "y = [399.9, 329.9, 369]\n",
        "predictions = [379, 288, 432]\n",
        "difference = [21, 42, -63]\n",
        "difference_squared = [449, 1756, 3969]\n",
        "\n",
        "df = pd.DataFrame({'sqft': x, \"price_in_thous\": y, \"predictions\": predictions, \n",
        "                   \"difference\": difference, \"diff_squared\": difference_squared})\n",
        "df.head()"
      ],
      "execution_count": 1,
      "outputs": [
        {
          "output_type": "execute_result",
          "data": {
            "text/html": [
              "<div>\n",
              "<style scoped>\n",
              "    .dataframe tbody tr th:only-of-type {\n",
              "        vertical-align: middle;\n",
              "    }\n",
              "\n",
              "    .dataframe tbody tr th {\n",
              "        vertical-align: top;\n",
              "    }\n",
              "\n",
              "    .dataframe thead th {\n",
              "        text-align: right;\n",
              "    }\n",
              "</style>\n",
              "<table border=\"1\" class=\"dataframe\">\n",
              "  <thead>\n",
              "    <tr style=\"text-align: right;\">\n",
              "      <th></th>\n",
              "      <th>sqft</th>\n",
              "      <th>price_in_thous</th>\n",
              "      <th>predictions</th>\n",
              "      <th>difference</th>\n",
              "      <th>diff_squared</th>\n",
              "    </tr>\n",
              "  </thead>\n",
              "  <tbody>\n",
              "    <tr>\n",
              "      <th>0</th>\n",
              "      <td>2104</td>\n",
              "      <td>399.9</td>\n",
              "      <td>379</td>\n",
              "      <td>21</td>\n",
              "      <td>449</td>\n",
              "    </tr>\n",
              "    <tr>\n",
              "      <th>1</th>\n",
              "      <td>1600</td>\n",
              "      <td>329.9</td>\n",
              "      <td>288</td>\n",
              "      <td>42</td>\n",
              "      <td>1756</td>\n",
              "    </tr>\n",
              "    <tr>\n",
              "      <th>2</th>\n",
              "      <td>2400</td>\n",
              "      <td>369.0</td>\n",
              "      <td>432</td>\n",
              "      <td>-63</td>\n",
              "      <td>3969</td>\n",
              "    </tr>\n",
              "  </tbody>\n",
              "</table>\n",
              "</div>"
            ],
            "text/plain": [
              "   sqft  price_in_thous  predictions  difference  diff_squared\n",
              "0  2104           399.9          379          21           449\n",
              "1  1600           329.9          288          42          1756\n",
              "2  2400           369.0          432         -63          3969"
            ]
          },
          "metadata": {
            "tags": []
          },
          "execution_count": 1
        }
      ]
    },
    {
      "cell_type": "code",
      "metadata": {
        "colab_type": "code",
        "id": "JgKs9py9fBuM",
        "colab": {
          "base_uri": "https://localhost:8080/",
          "height": 295
        },
        "outputId": "470148aa-a532-446a-eb65-bfc4a9c4a169"
      },
      "source": [
        "plt.scatter(df.sqft, df.price_in_thous)\n",
        "plt.xlabel(\"Square Feet\")\n",
        "plt.ylabel(\"Price in Thousands of Dollars\")\n",
        "plt.title(\"Home Price Estimates\")\n",
        "\n",
        "# Plot the line\n",
        "price_per_sqft = .180\n",
        "\n",
        "y_hat = [price_per_sqft*x for x in df.sqft]\n",
        "plt.plot(df.sqft, y_hat, color=\"red\")\n",
        "\n",
        "plt.show()"
      ],
      "execution_count": 2,
      "outputs": [
        {
          "output_type": "display_data",
          "data": {
            "image/png": "[encoded data removed]",
            "text/plain": [
              "<Figure size 432x288 with 1 Axes>"
            ]
          },
          "metadata": {
            "tags": [],
            "needs_background": "light"
          }
        }
      ]
    },
    {
      "cell_type": "markdown",
      "metadata": {
        "colab_type": "text",
        "id": "D_422Q5XgTo5"
      },
      "source": [
        "### Look Familiar?\n",
        "\n",
        "Well it should because we've just plotted a regression line hypothesis based on the average square foot price of the three homes that we looked at. Our average error for this line is:"
      ]
    },
    {
      "cell_type": "code",
      "metadata": {
        "colab_type": "code",
        "id": "CY6xiQ-BgxLR",
        "colab": {
          "base_uri": "https://localhost:8080/",
          "height": 34
        },
        "outputId": "28694222-a788-46a5-ed7e-dec5687e5791"
      },
      "source": [
        "print(\"Mean Squared Error:\", df.diff_squared.mean())"
      ],
      "execution_count": 3,
      "outputs": [
        {
          "output_type": "stream",
          "text": [
            "Mean Squared Error: 2058.0\n"
          ],
          "name": "stdout"
        }
      ]
    },
    {
      "cell_type": "markdown",
      "metadata": {
        "colab_type": "text",
        "id": "Mesjb_tfg2zQ"
      },
      "source": [
        "Now, we didn't fit this line using any regression techniques so it's likely that it's **not** the line of best fit. But we could try out other lines and see if the error gets bigger or smaller. Well it just so happens that in this two dimensional world that if our line is stuck to the origin on one end then we don't have all of the freedom that we want to control our predictions. We need some way to slide it up and down the y axis so that we can make any line that we want in this two-dimensional world. This y-intercept is a constant value, or in other words it's always weighted by 1. We're going to call this y-intercept our \"bias\" term. We'll define this a little bit better in a minute. \n",
        "\n",
        "![New Network with Bias](http://jalammar.github.io/images/NNs_bias.png)\n",
        "\n",
        "Now I don't love this diagram because it shows our \"bias\" term as if it was a new horizontal layer, in reality the bias term interacts with a single layer to affect all layers after the hidden layer that it is associated with. This diagram will give you a better idea: \n",
        "\n",
        "![Bias Terms](https://i.stack.imgur.com/6S6Bz.png)\n"
      ]
    },
    {
      "cell_type": "code",
      "metadata": {
        "colab_type": "code",
        "id": "y_7t3vOBfYDz",
        "colab": {
          "base_uri": "https://localhost:8080/",
          "height": 85
        },
        "outputId": "40a39787-617e-4185-b845-0c4520ca280f"
      },
      "source": [
        "import numpy as np\n",
        "\n",
        "weight = .100\n",
        "bias = 160\n",
        "\n",
        "X = np.array([2104, 1600, 2400])\n",
        "y = np.array([399.9, 329.9, 369])\n",
        "predictions = [weight*x + bias for x in X]\n",
        "print(\"Predictions:\", predictions)\n",
        "difference = y-predictions\n",
        "print(\"Difference:\", difference)\n",
        "difference_squared = difference**2\n",
        "print(\"Difference Squared:\", difference_squared)\n",
        "MSE = difference_squared.sum()/len(difference_squared)\n",
        "print(\"Mean Squared Error\", MSE)"
      ],
      "execution_count": 4,
      "outputs": [
        {
          "output_type": "stream",
          "text": [
            "Predictions: [370.4, 320.0, 400.0]\n",
            "Difference: [ 29.5   9.9 -31. ]\n",
            "Difference Squared: [870.25  98.01 961.  ]\n",
            "Mean Squared Error 643.0866666666665\n"
          ],
          "name": "stdout"
        }
      ]
    },
    {
      "cell_type": "code",
      "metadata": {
        "colab_type": "code",
        "id": "gdCy8l7Sj6nW",
        "colab": {
          "base_uri": "https://localhost:8080/",
          "height": 295
        },
        "outputId": "9d9c2b9a-8316-43f1-f7ad-42804153a48a"
      },
      "source": [
        "plt.scatter(X, y)\n",
        "plt.xlabel(\"Square Feet\")\n",
        "plt.ylabel(\"Price in Thousands of Dollars\")\n",
        "plt.title(\"Home Price Estimates\")\n",
        "\n",
        "# Plot the line\n",
        "price_per_sqft = .180\n",
        "\n",
        "y_hat = [weight*x + bias for x in X]\n",
        "plt.plot(X, y_hat, color=\"green\")\n",
        "\n",
        "y_hat = [price_per_sqft*x for x in df.sqft]\n",
        "plt.plot(df.sqft, y_hat, color=\"red\")\n",
        "\n",
        "plt.show()"
      ],
      "execution_count": 5,
      "outputs": [
        {
          "output_type": "display_data",
          "data": {
            "image/png": "[encoded data removed]",
            "text/plain": [
              "<Figure size 432x288 with 1 Axes>"
            ]
          },
          "metadata": {
            "tags": [],
            "needs_background": "light"
          }
        }
      ]
    },
    {
      "cell_type": "markdown",
      "metadata": {
        "colab_type": "text",
        "id": "ra7k-EJBj5_o"
      },
      "source": [
        "**The bias value in coordination with our weight gives our network the full range of motion that it needs to find the best way to explain the patterns in the data.**\n",
        "\n",
        "Well, what if instead of only looking at square footage we collected a second data point like number of bathrooms there is in each house. Lets also get a few more data points while we're at it:"
      ]
    },
    {
      "cell_type": "code",
      "metadata": {
        "colab_type": "code",
        "id": "UTZYAnU6myqP",
        "colab": {
          "base_uri": "https://localhost:8080/",
          "height": 343
        },
        "outputId": "e865a9a6-fea9-4139-c2b3-2b6fdd3b35a9"
      },
      "source": [
        "sqft = [2104, 1600, 2400, 1416, 3000, 1985, 1534, 1427, 1380, 1419]\n",
        "bathrooms = [3, 3, 3, 2, 4, 4, 3, 3, 3, 3]\n",
        "price = [399900, 329900, 369000, 232000, 539000, 299900, 314900, 198999,\n",
        "        212000, 242500]\n",
        "\n",
        "df = pd.DataFrame({'sqft': sqft, 'bathrooms': bathrooms, 'price': price})\n",
        "df.head(10)"
      ],
      "execution_count": null,
      "outputs": [
        {
          "output_type": "execute_result",
          "data": {
            "text/html": [
              "<div>\n",
              "<style scoped>\n",
              "    .dataframe tbody tr th:only-of-type {\n",
              "        vertical-align: middle;\n",
              "    }\n",
              "\n",
              "    .dataframe tbody tr th {\n",
              "        vertical-align: top;\n",
              "    }\n",
              "\n",
              "    .dataframe thead th {\n",
              "        text-align: right;\n",
              "    }\n",
              "</style>\n",
              "<table border=\"1\" class=\"dataframe\">\n",
              "  <thead>\n",
              "    <tr style=\"text-align: right;\">\n",
              "      <th></th>\n",
              "      <th>sqft</th>\n",
              "      <th>bathrooms</th>\n",
              "      <th>price</th>\n",
              "    </tr>\n",
              "  </thead>\n",
              "  <tbody>\n",
              "    <tr>\n",
              "      <th>0</th>\n",
              "      <td>2104</td>\n",
              "      <td>3</td>\n",
              "      <td>399900</td>\n",
              "    </tr>\n",
              "    <tr>\n",
              "      <th>1</th>\n",
              "      <td>1600</td>\n",
              "      <td>3</td>\n",
              "      <td>329900</td>\n",
              "    </tr>\n",
              "    <tr>\n",
              "      <th>2</th>\n",
              "      <td>2400</td>\n",
              "      <td>3</td>\n",
              "      <td>369000</td>\n",
              "    </tr>\n",
              "    <tr>\n",
              "      <th>3</th>\n",
              "      <td>1416</td>\n",
              "      <td>2</td>\n",
              "      <td>232000</td>\n",
              "    </tr>\n",
              "    <tr>\n",
              "      <th>4</th>\n",
              "      <td>3000</td>\n",
              "      <td>4</td>\n",
              "      <td>539000</td>\n",
              "    </tr>\n",
              "    <tr>\n",
              "      <th>5</th>\n",
              "      <td>1985</td>\n",
              "      <td>4</td>\n",
              "      <td>299900</td>\n",
              "    </tr>\n",
              "    <tr>\n",
              "      <th>6</th>\n",
              "      <td>1534</td>\n",
              "      <td>3</td>\n",
              "      <td>314900</td>\n",
              "    </tr>\n",
              "    <tr>\n",
              "      <th>7</th>\n",
              "      <td>1427</td>\n",
              "      <td>3</td>\n",
              "      <td>198999</td>\n",
              "    </tr>\n",
              "    <tr>\n",
              "      <th>8</th>\n",
              "      <td>1380</td>\n",
              "      <td>3</td>\n",
              "      <td>212000</td>\n",
              "    </tr>\n",
              "    <tr>\n",
              "      <th>9</th>\n",
              "      <td>1419</td>\n",
              "      <td>3</td>\n",
              "      <td>242500</td>\n",
              "    </tr>\n",
              "  </tbody>\n",
              "</table>\n",
              "</div>"
            ],
            "text/plain": [
              "   sqft  bathrooms   price\n",
              "0  2104          3  399900\n",
              "1  1600          3  329900\n",
              "2  2400          3  369000\n",
              "3  1416          2  232000\n",
              "4  3000          4  539000\n",
              "5  1985          4  299900\n",
              "6  1534          3  314900\n",
              "7  1427          3  198999\n",
              "8  1380          3  212000\n",
              "9  1419          3  242500"
            ]
          },
          "metadata": {
            "tags": []
          },
          "execution_count": 7
        }
      ]
    },
    {
      "cell_type": "markdown",
      "metadata": {
        "colab_type": "text",
        "id": "TIEht5FKoFfg"
      },
      "source": [
        "### Two Input Nodes\n",
        "\n",
        "Now that we have two inputs or two x variables how might we modify the architecture of our network to accept these inputs?\n",
        "\n",
        "![Two input Nodes](http://jalammar.github.io/images/NNs_2_variables.png)\n",
        "\n",
        "You'll notice that now we need a weight for each one of our input nodes, or for each feature of our dataset. If we were to write out the calculation that is happening as our data flows through this network it might look something like this:\n",
        "\n",
        "![Equation](http://jalammar.github.io/images/NNs_formula_two_variables.png)"
      ]
    },
    {
      "cell_type": "markdown",
      "metadata": {
        "colab_type": "text",
        "id": "L7GSOWsx7R6k"
      },
      "source": [
        "### I hope this looks extremely familiar.\n",
        "\n",
        "Now we have a new network that takes in two inputs. But now instead of guessing at slope and coefficient values and evaluating them. How can we explore more combinations of weights and bias until we find the values that minimize our Mean-Squared Error?\n",
        "\n",
        "[Lets Try It!](http://jalammar.github.io/visual-interactive-guide-basics-neural-networks/)"
      ]
    },
    {
      "cell_type": "markdown",
      "metadata": {
        "colab_type": "text",
        "id": "iIpNgBlupRpn"
      },
      "source": [
        "### ANNs are not Linear Regression\n",
        "\n",
        "It just so happens that the one that we have defined in this way acts the same way. We've defined a neural network that does the same thing as Linear Regression for a couple of different reasons\n",
        "\n",
        "1) To familiarize you with node maps (even if I don't love the ones in the article).\n",
        "\n",
        "2) To introduce the concepts of \"weights\" and \"biases\" in a context that you're already familiar with.\n",
        "\n",
        "3) Each layer in a feed-forward neural network affects the next layer by a weighted sum of inputs plus a bias term. \n",
        "\n",
        "4) To make it plain to you that we can search out the optimal weights and biases of a neural network through gradient descent if we have a loss function that evaluates the quality of our predictions compared to the y values in our training data. \n",
        "\n"
      ]
    },
    {
      "cell_type": "markdown",
      "metadata": {
        "colab_type": "text",
        "id": "OZC5EFQeu4Me",
        "toc-hr-collapsed": true
      },
      "source": [
        "### Why are Neural Networks so Powerful?\n",
        "\n",
        "So if we can use a very simple neural network to represent a linear regression problem, what do neural networks with lots of additional features/layers represent? Why can't we just use linear regression for everything?"
      ]
    },
    {
      "cell_type": "markdown",
      "metadata": {
        "colab_type": "text",
        "id": "qrQc4RWW7R6r"
      },
      "source": [
        "#### Nonlinearities\n",
        "\n",
        "Linear regression is built to fit more or less linear models in n-dimensional space. While it is true that we can fit non-linear features using linear regression as we include polynomial features, the reality is that in order to fit really curvy nonlinear patterns in data in really complex high dimensional features spaces, the number of polynomial terms that we would have to include in a linear or logistic regression model faces a problem of combinatorial explosion in terms of the number of features that would be required. \n",
        "\n",
        "Well what kinds of data exhibit these really strong nonlinearities? Well, how about images for example:\n",
        "\n",
        "![Cars](https://ak7.picdn.net/shutterstock/videos/4939097/thumb/1.jpg)\n",
        "\n",
        "Think about all of the different forms a car could take in an image yet our human brains recognize them as cars flawlessly. Think about all of the complexity that we would have to take into account. How could you even begin to feature engineer a dataset of pixel values in order to give a regression algorithm something that it could cue on as being a car or not a car?\n",
        "\n",
        "[Andrew Ng can probably explain this better than I can](https://www.youtube.com/watch?v=1ZhtwInuOD0)\n",
        "\n",
        "The interactions between layers of neurons in neural networks in a way accounts for that combinatorial explosion within the structure of the algorithm as needed instead of us having to provide it beforehand.\n",
        "\n",
        "![Neural Network](https://cdn-images-1.medium.com/max/1200/1*DW0Ccmj1hZ0OvSXi7Kz5MQ.jpeg)"
      ]
    },
    {
      "cell_type": "markdown",
      "metadata": {
        "id": "3VlpYV3j7R6s",
        "colab_type": "text"
      },
      "source": [
        "## Challenge\n",
        "\n",
        "In the corresponding module project, you will be asked to summarize the different components of a neural network. "
      ]
    },
    {
      "cell_type": "markdown",
      "metadata": {
        "colab_type": "text",
        "id": "dGb0yyBtBCBD",
        "toc-hr-collapsed": false
      },
      "source": [
        "# The Perceptron (Learn)\n",
        "<a id=\"p2\"></a>"
      ]
    },
    {
      "cell_type": "markdown",
      "metadata": {
        "colab_type": "text",
        "id": "ejU1L_SB7R6w"
      },
      "source": [
        "## Overview\n",
        "The first and simplest kind of neural network that we could talk about is the perceptron. A perceptron is just a single node or neuron of a neural network with nothing else. It can take any number of inputs and spit out an output. What a neuron does is it takes each of the input values, multiplies each of them by a weight, sums all of these products up, and then passes the sum through what is called an \"activation function\" the result of which is the final value.\n",
        "\n",
        "I really like figure 2.1 found in this [pdf](http://www.uta.fi/sis/tie/neuro/index/Neurocomputing2.pdf) even though it doesn't have bias term represented there.\n",
        "\n",
        "If we were to write what is happening in some verbose mathematical notation, it might look something like this:\n",
        "\n",
        "\\begin{align}\n",
        " y = sigmoid(\\sum(weight_{1}input_{1} + weight_{2}input_{2} + weight_{3}input_{3}) + bias)\n",
        "\\end{align}\n",
        "\n",
        "Understanding what happens with a single neuron is important because this is the same pattern that will take place for all of our networks. \n",
        "\n",
        "When imagining a neural network I like to think about the arrows as representing the weights, like a wire that has a certain amount of resistance and only lets a certain amount of current through. And I like to think about the node itself as containing the prescribed activation function that neuron will use to decide how much signal to pass onto the next layer.\n",
        "\n",
        "### Activation Functions (transfer functions)\n",
        "\n",
        "In Neural Networks, each node has an activation function. Each node in a given layer typically has the same activation function. These activation functions are the biggest piece of neural networks that have been inspired by actual biology. The activation function decides whether a cell \"fires\" or not. Sometimes it is said that the cell is \"activated\" or not. In Artificial Neural Networks activation functions decide how much signal to pass onto the next layer. This is why they are sometimes referred to as transfer functions because they determine how much signal is transferred to the next layer.\n",
        "\n",
        "##### Common Activation Functions:\n",
        "\n",
        "![Activation Functions](http://www.snee.com/bobdc.blog/img/activationfunctions.png)"
      ]
    },
    {
      "cell_type": "markdown",
      "metadata": {
        "colab_type": "text",
        "id": "-9x3x5XgtD3i",
        "toc-hr-collapsed": true
      },
      "source": [
        "## Follow Along\n",
        "### Implementing a Perceptron from scratch in Python\n",
        "\n",
        "Disclaimer: This is not the same Perceptron first created by Frank Rosenblatt which used the \"Step Function\" and the \"Perceptron Learning Rule\" instead of the sigmoid activation function and gradient descent respectively. Our Perceptron is more similiar to a modern Neural Network. Just a very simple one. "
      ]
    },
    {
      "cell_type": "markdown",
      "metadata": {
        "colab_type": "text",
        "id": "A47bcPUYYf8S"
      },
      "source": [
        "### Establish training data"
      ]
    },
    {
      "cell_type": "code",
      "metadata": {
        "colab_type": "code",
        "id": "q9Sj_AVzReca",
        "colab": {
          "base_uri": "https://localhost:8080/",
          "height": 34
        },
        "outputId": "d6ea729f-e34f-40db-a57b-9305a6127cad"
      },
      "source": [
        "import numpy as np\n",
        "import pandas as pd\n",
        "\n",
        "np.random.seed(812)\n",
        "\n",
        "#last column is bias term, second column is noise\n",
        "inputs = np.array([[0,0,1],\n",
        "                   [1,1,1],\n",
        "                   [1,0,1],\n",
        "                   [0,1,1]])\n",
        "\n",
        "correct_outputs = ([0], [1], [1], [0])\n",
        "type(correct_outputs)"
      ],
      "execution_count": 7,
      "outputs": [
        {
          "output_type": "execute_result",
          "data": {
            "text/plain": [
              "tuple"
            ]
          },
          "metadata": {
            "tags": []
          },
          "execution_count": 7
        }
      ]
    },
    {
      "cell_type": "code",
      "metadata": {
        "id": "zeWZLQLSD4ny",
        "colab_type": "code",
        "colab": {
          "base_uri": "https://localhost:8080/",
          "height": 34
        },
        "outputId": "769d12df-c1db-42e2-c65c-b4e204f0b487"
      },
      "source": [
        "len(inputs[0])"
      ],
      "execution_count": 5,
      "outputs": [
        {
          "output_type": "execute_result",
          "data": {
            "text/plain": [
              "3"
            ]
          },
          "metadata": {
            "tags": []
          },
          "execution_count": 5
        }
      ]
    },
    {
      "cell_type": "code",
      "metadata": {
        "id": "-8EegOhSD6Ma",
        "colab_type": "code",
        "colab": {}
      },
      "source": [
        ""
      ],
      "execution_count": null,
      "outputs": []
    },
    {
      "cell_type": "code",
      "metadata": {
        "id": "5kY4QOGCEvoe",
        "colab_type": "code",
        "colab": {
          "base_uri": "https://localhost:8080/",
          "height": 170
        },
        "outputId": "d1d6c133-3773-4ac6-9c78-e24d40e52af8"
      },
      "source": [
        "class Perceptron(object):\n",
        "    X = None\n",
        "    y = np.array\n",
        "    niter = None\n",
        "    #np.random.seed(812)\n",
        "    \n",
        "    def __init__(self, X, y, niter=1000, *args, **kwargs):\n",
        "        super().__init__(*args, **kwargs)\n",
        "        self.X = X\n",
        "        self.y = y\n",
        "        self.niter = niter\n",
        "\n",
        "    def sigmoid(self, x):\n",
        "        return 1 / (1 + np.exp(-x))\n",
        "     \n",
        "    def sigmoid_der(self, x):\n",
        "        sx = self.sigmoid(x)\n",
        "        return sx * (1-sx)\n",
        "   \n",
        "    def fit(self):\n",
        "        X = self.X\n",
        "        y = np.array(self.y)\n",
        "        if type(X) == pd.DataFrame:\n",
        "          z = len(X.columns)\n",
        "        else:\n",
        "          z = len(X[0])\n",
        "\n",
        "        # if type(y) == pd.DataFrame:\n",
        "        #   var = []\n",
        "        #   for i in y:\n",
        "        #     var.append([i])\n",
        "        #   y = np.array(var)\n",
        "\n",
        "        # elif type(y) == pd.Series:\n",
        "        #   var = []\n",
        "        #   for i in y:\n",
        "        #     var.append([i])\n",
        "        #   y = np.array(var)    \n",
        "\n",
        "        # else:\n",
        "        #   y = self.y\n",
        "\n",
        "        weights = 2 * np.random.random((z,1)) -1\n",
        "        for i in range(self.niter):\n",
        "          # Weighted sum of inputs / weights\n",
        "          weighted_sum = np.dot(X, weights)\n",
        "          \n",
        "          # Activate!\n",
        "          activated_output = self.sigmoid(weighted_sum)\n",
        "          \n",
        "          # Cac error\n",
        "          error = y - activated_output\n",
        "          adjustments = error * self.sigmoid_der(weighted_sum)\n",
        "          \n",
        "          # Update the Weights\n",
        "          weights += np.dot(y.T, adjustments)\n",
        "       # print(type(y))\n",
        "       # print(y)\n",
        "        print(\"Weights after training\")\n",
        "        print(weights)\n",
        "        print(\"Output after training\")\n",
        "        print(activated_output)\n",
        "\n",
        "\n",
        "    def predict(self):\n",
        "        return None\n",
        "\n",
        "precep = Perceptron(inputs, correct_outputs)\n",
        "precep.fit()"
      ],
      "execution_count": 5,
      "outputs": [
        {
          "output_type": "stream",
          "text": [
            "Weights after training\n",
            "[[1.91041179]\n",
            " [2.07563177]\n",
            " [2.21019941]]\n",
            "Output after training\n",
            "[[0.90113893]\n",
            " [0.99796552]\n",
            " [0.98401673]\n",
            " [0.9864178 ]]\n"
          ],
          "name": "stdout"
        }
      ]
    },
    {
      "cell_type": "code",
      "metadata": {
        "id": "bYRBj1WCRj-y",
        "colab_type": "code",
        "colab": {
          "base_uri": "https://localhost:8080/",
          "height": 85
        },
        "outputId": "ef761c35-0c59-4172-80da-1176afedf0d9"
      },
      "source": [
        "inputs"
      ],
      "execution_count": 15,
      "outputs": [
        {
          "output_type": "execute_result",
          "data": {
            "text/plain": [
              "array([[0, 0, 1],\n",
              "       [1, 1, 1],\n",
              "       [1, 0, 1],\n",
              "       [0, 1, 1]])"
            ]
          },
          "metadata": {
            "tags": []
          },
          "execution_count": 15
        }
      ]
    },
    {
      "cell_type": "markdown",
      "metadata": {
        "colab_type": "text",
        "id": "wJYHTTThYlcj"
      },
      "source": [
        "### Sigmoid activation function and its derivative for updating weights"
      ]
    },
    {
      "cell_type": "code",
      "metadata": {
        "id": "pEZn0hT97R7X",
        "colab_type": "code",
        "colab": {}
      },
      "source": [
        "def sigmoid(x):\n",
        "  return 1 / (1 + np.exp(-x))\n",
        "\n",
        "def sigmoid_derivative(x):\n",
        "  sx = sigmoid(x)\n",
        "  return sx * (1-sx)"
      ],
      "execution_count": 2,
      "outputs": []
    },
    {
      "cell_type": "code",
      "metadata": {
        "id": "d8AZRcmi_7_L",
        "colab_type": "code",
        "colab": {
          "base_uri": "https://localhost:8080/",
          "height": 187
        },
        "outputId": "5aeca752-e2df-4725-b95e-65a49fc0f86b"
      },
      "source": [
        "class Perceptron(object):\n",
        "    X = None\n",
        "    y = None\n",
        "    niter = None\n",
        "    #np.random.seed(812)\n",
        "    \n",
        "    def __init__(self, X, y, niter=1000, *args, **kwargs):\n",
        "        super().__init__(*args, **kwargs)\n",
        "        self.X = X\n",
        "        self.y = y\n",
        "        self.niter = niter\n",
        "\n",
        "    def sigmoid(self, x):\n",
        "        return 1 / (1 + np.exp(-x))\n",
        "     \n",
        "    def sigmoid_der(self, x):\n",
        "        sx = self.sigmoid(x)\n",
        "        return sx * (1-sx)\n",
        "   \n",
        "    def fit(self):\n",
        "        X = self.X\n",
        "        y = self.y\n",
        "        if type(X) == pd.DataFrame:\n",
        "          z = len(X.columns)\n",
        "        else:\n",
        "          z = len(X[0])\n",
        "        # if type(y) == pd.Series:\n",
        "        #   var = []\n",
        "        #   for i in y:\n",
        "        #     var.append([i])\n",
        "        #   y = var\n",
        "\n",
        "        weights = 2 * np.random.random((z,1)) -1\n",
        "        for i in range(self.niter):\n",
        "          # Weighted sum of inputs / weights\n",
        "          weighted_sum = np.dot(X, weights)\n",
        "          \n",
        "          # Activate!\n",
        "          activated_output = self.sigmoid(weighted_sum)\n",
        "          \n",
        "          # Cac error\n",
        "          error = y - activated_output\n",
        "          adjustments = error * self.sigmoid_der(weighted_sum)\n",
        "          \n",
        "          # Update the Weights\n",
        "          weights += np.dot(X.T, adjustments)\n",
        "\n",
        "        print(type(inputs))\n",
        "        print(\"Weights after training\")\n",
        "        print(weights)\n",
        "        print(\"Output after training\")\n",
        "        print(activated_output)\n",
        "\n",
        "\n",
        "    def predict(self):\n",
        "        return None\n",
        "\n",
        "precep = Perceptron(inputs, correct_outputs)\n",
        "precep.fit()"
      ],
      "execution_count": 16,
      "outputs": [
        {
          "output_type": "stream",
          "text": [
            "<class 'numpy.ndarray'>\n",
            "Weights after training\n",
            "[[ 7.26636076]\n",
            " [-0.22301636]\n",
            " [-3.41469888]]\n",
            "Output after training\n",
            "[[0.0318561 ]\n",
            " [0.97412103]\n",
            " [0.97918675]\n",
            " [0.02565119]]\n"
          ],
          "name": "stdout"
        }
      ]
    },
    {
      "cell_type": "code",
      "metadata": {
        "id": "ypr34hn0MoNi",
        "colab_type": "code",
        "colab": {}
      },
      "source": [
        ""
      ],
      "execution_count": null,
      "outputs": []
    },
    {
      "cell_type": "code",
      "metadata": {
        "colab_type": "code",
        "id": "7bxpORTkMpIb",
        "colab": {
          "base_uri": "https://localhost:8080/",
          "height": 187
        },
        "outputId": "bda32a27-45be-494c-c4d2-65b251953e7f"
      },
      "source": [
        "class Perceptron(object):\n",
        "    X = None\n",
        "    y = None\n",
        "    niter = None\n",
        "    #np.random.seed(812)\n",
        "    \n",
        "    def __init__(self, X, y, niter=1000, *args, **kwargs):\n",
        "        super().__init__(*args, **kwargs)\n",
        "        self.X = X\n",
        "        self.y = y\n",
        "        self.niter = niter\n",
        "\n",
        "    def sigmoid(self, x):\n",
        "        return 1 / (1 + np.exp(-x))\n",
        "     \n",
        "    def sigmoid_der(self, x):\n",
        "        sx = self.sigmoid(x)\n",
        "        return sx * (1-sx)\n",
        "   \n",
        "    def fit(self):\n",
        "        X = self.X\n",
        "        y = self.y\n",
        "        z = len(X[0])\n",
        "        # if type(X) == pd.DataFrame:\n",
        "        #   z = len(X.columns)\n",
        "        # else:\n",
        "        #  z = len(X[0])\n",
        "        # if type(y) == pd.Series:\n",
        "        #   var = []\n",
        "        #   for i in y:\n",
        "        #     var.append([i])\n",
        "        #   y = var\n",
        "\n",
        "        weights = 2 * np.random.random((z,1)) -1\n",
        "        for i in range(self.niter):\n",
        "          # Weighted sum of inputs / weights\n",
        "          weighted_sum = np.dot(X, weights)\n",
        "          \n",
        "          # Activate!\n",
        "          activated_output = self.sigmoid(weighted_sum)\n",
        "          \n",
        "          # Cac error\n",
        "          error = y - activated_output\n",
        "          adjustments = error * self.sigmoid_der(weighted_sum)\n",
        "          \n",
        "          # Update the Weights\n",
        "          weights += np.dot(X.T, adjustments)\n",
        "\n",
        "        print(type(inputs))\n",
        "        print(\"Weights after training\")\n",
        "        print(weights)\n",
        "        print(\"Output after training\")\n",
        "        print(activated_output)\n",
        "\n",
        "\n",
        "    def predict(self):\n",
        "        return None\n",
        "\n",
        "precep = Perceptron(inputs, correct_outputs)\n",
        "precep.fit()"
      ],
      "execution_count": 14,
      "outputs": [
        {
          "output_type": "stream",
          "text": [
            "<class 'numpy.ndarray'>\n",
            "Weights after training\n",
            "[[ 7.26031794]\n",
            " [-0.22051736]\n",
            " [-3.41315855]]\n",
            "Output after training\n",
            "[[0.03190369]\n",
            " [0.97407042]\n",
            " [0.97909469]\n",
            " [0.02575244]]\n"
          ],
          "name": "stdout"
        }
      ]
    },
    {
      "cell_type": "code",
      "metadata": {
        "id": "KU6_2jDVLhb2",
        "colab_type": "code",
        "colab": {
          "base_uri": "https://localhost:8080/",
          "height": 51
        },
        "outputId": "11f5785a-abd1-4eba-b9bd-273d1b3b1958"
      },
      "source": [
        "print(type(inputs))\n",
        "print(type(correct_outputs))"
      ],
      "execution_count": 10,
      "outputs": [
        {
          "output_type": "stream",
          "text": [
            "<class 'numpy.ndarray'>\n",
            "<class 'tuple'>\n"
          ],
          "name": "stdout"
        }
      ]
    },
    {
      "cell_type": "code",
      "metadata": {
        "id": "xx6InkDULhOd",
        "colab_type": "code",
        "colab": {}
      },
      "source": [
        ""
      ],
      "execution_count": null,
      "outputs": []
    },
    {
      "cell_type": "code",
      "metadata": {
        "id": "rUptlB7C_jOg",
        "colab_type": "code",
        "colab": {}
      },
      "source": [
        "class Perceptron\n",
        "\n",
        "\n",
        "def fit(inputs, weights, correct_outputs):\n",
        "  for iteration in range(10000):\n",
        "    \n",
        "    # Weighted sum of inputs / weights\n",
        "    weighted_sum = np.dot(inputs, weights)\n",
        "    \n",
        "    # Activate!\n",
        "    activated_output = sigmoid(weighted_sum)\n",
        "    \n",
        "    # Cac error\n",
        "    error = correct_outputs - activated_output\n",
        "    \n",
        "    adjustments = error * sigmoid_derivative(weighted_sum)\n",
        "    \n",
        "    # Update the Weights\n",
        "    weights += np.dot(inputs.T, adjustments)\n",
        "    \n",
        "  print(\"Weights after training\")\n",
        "  print(weights)\n",
        "\n",
        "  print(\"Output after training\")\n",
        "  print(activated_output)\n",
        "\n",
        "my_func(inputs, weights, correct_outputs)"
      ],
      "execution_count": null,
      "outputs": []
    },
    {
      "cell_type": "markdown",
      "metadata": {
        "colab_type": "text",
        "id": "vWyVzV-oUTC8",
        "toc-hr-collapsed": true
      },
      "source": [
        "### Updating weights with derivative of sigmoid function:\n",
        "\n",
        "![Sigmoid Function](https://upload.wikimedia.org/wikipedia/commons/thumb/8/88/Logistic-curve.svg/320px-Logistic-curve.svg.png)"
      ]
    },
    {
      "cell_type": "markdown",
      "metadata": {
        "colab_type": "text",
        "id": "iHpgMkpQX9HK"
      },
      "source": [
        "### Initialize random weights for our three inputs"
      ]
    },
    {
      "cell_type": "code",
      "metadata": {
        "id": "7mD8X9YO7R7i",
        "colab_type": "code",
        "colab": {}
      },
      "source": [
        "# weight initialization strategies, mostly random but others exist\n",
        "weights = 2 * np.random.random((3,1)) -1"
      ],
      "execution_count": 3,
      "outputs": []
    },
    {
      "cell_type": "code",
      "metadata": {
        "id": "8BMHANmxM2Cz",
        "colab_type": "code",
        "colab": {
          "base_uri": "https://localhost:8080/",
          "height": 68
        },
        "outputId": "5c344095-71c1-4f19-9801-5ec40aafb06f"
      },
      "source": [
        "weights"
      ],
      "execution_count": 11,
      "outputs": [
        {
          "output_type": "execute_result",
          "data": {
            "text/plain": [
              "array([[ 0.0099616 ],\n",
              "       [ 0.21185521],\n",
              "       [-0.08502562]])"
            ]
          },
          "metadata": {
            "tags": []
          },
          "execution_count": 11
        }
      ]
    },
    {
      "cell_type": "markdown",
      "metadata": {
        "colab_type": "text",
        "id": "bNhy_Qk2YBJO"
      },
      "source": [
        "### Calculate weighted sum of inputs and weights"
      ]
    },
    {
      "cell_type": "code",
      "metadata": {
        "id": "Cr5QlcSDM7k_",
        "colab_type": "code",
        "colab": {
          "base_uri": "https://localhost:8080/",
          "height": 85
        },
        "outputId": "bb852ba6-43ae-4aea-d12c-e92bda175a20"
      },
      "source": [
        "weighted_sum = np.dot(inputs, weights)\n",
        "weighted_sum"
      ],
      "execution_count": 13,
      "outputs": [
        {
          "output_type": "execute_result",
          "data": {
            "text/plain": [
              "array([[-0.08502562],\n",
              "       [ 0.13679119],\n",
              "       [-0.07506402],\n",
              "       [ 0.12682959]])"
            ]
          },
          "metadata": {
            "tags": []
          },
          "execution_count": 13
        }
      ]
    },
    {
      "cell_type": "markdown",
      "metadata": {
        "colab_type": "text",
        "id": "c4z3LqLFaWMy"
      },
      "source": [
        "### Output the activated value for the end of 1 training epoch"
      ]
    },
    {
      "cell_type": "code",
      "metadata": {
        "colab_type": "code",
        "id": "llmNHRH5W4BA",
        "colab": {
          "base_uri": "https://localhost:8080/",
          "height": 85
        },
        "outputId": "46a81d9c-0b90-45e7-e6b4-649e38cf5dc1"
      },
      "source": [
        "# These are probabilities, not class labels.\n",
        "activated_output = sigmoid(weighted_sum)\n",
        "activated_output"
      ],
      "execution_count": 14,
      "outputs": [
        {
          "output_type": "execute_result",
          "data": {
            "text/plain": [
              "array([[0.47875639],\n",
              "       [0.53414457],\n",
              "       [0.4812428 ],\n",
              "       [0.53166496]])"
            ]
          },
          "metadata": {
            "tags": []
          },
          "execution_count": 14
        }
      ]
    },
    {
      "cell_type": "markdown",
      "metadata": {
        "colab_type": "text",
        "id": "o_P2i3KEaiVC"
      },
      "source": [
        "### take difference of output and true values to calculate error"
      ]
    },
    {
      "cell_type": "code",
      "metadata": {
        "colab_type": "code",
        "id": "6mg175C6XaYO",
        "colab": {
          "base_uri": "https://localhost:8080/",
          "height": 85
        },
        "outputId": "052837e9-6278-46c7-d260-ef14659a2a0e"
      },
      "source": [
        "error = correct_outputs - activated_output\n",
        "error"
      ],
      "execution_count": 15,
      "outputs": [
        {
          "output_type": "execute_result",
          "data": {
            "text/plain": [
              "array([[-0.47875639],\n",
              "       [ 0.46585543],\n",
              "       [ 0.5187572 ],\n",
              "       [-0.53166496]])"
            ]
          },
          "metadata": {
            "tags": []
          },
          "execution_count": 15
        }
      ]
    },
    {
      "cell_type": "markdown",
      "metadata": {
        "id": "d7R6kmMn7R8Z",
        "colab_type": "text"
      },
      "source": [
        "### Gradient descent/backprop - magic!\n",
        "\n",
        "Gradient descent interative updating of weights"
      ]
    },
    {
      "cell_type": "code",
      "metadata": {
        "id": "kOSUvwv97R8c",
        "colab_type": "code",
        "colab": {
          "base_uri": "https://localhost:8080/",
          "height": 85
        },
        "outputId": "9bee59de-cac4-4b86-b1fa-c12989a6f217"
      },
      "source": [
        "adjustments = error * sigmoid_derivative(weighted_sum)\n",
        "adjustments"
      ],
      "execution_count": 16,
      "outputs": [
        {
          "output_type": "execute_result",
          "data": {
            "text/plain": [
              "array([[-0.11947304],\n",
              "       [ 0.11592074],\n",
              "       [ 0.12950678],\n",
              "       [-0.13238316]])"
            ]
          },
          "metadata": {
            "tags": []
          },
          "execution_count": 16
        }
      ]
    },
    {
      "cell_type": "code",
      "metadata": {
        "colab_type": "code",
        "id": "hJH_wpb-XmKJ",
        "colab": {
          "base_uri": "https://localhost:8080/",
          "height": 68
        },
        "outputId": "61e8e49a-3f1f-4547-80df-47fff4e649ef"
      },
      "source": [
        "weights = np.dot(inputs.T, adjustments)\n",
        "weights"
      ],
      "execution_count": 17,
      "outputs": [
        {
          "output_type": "execute_result",
          "data": {
            "text/plain": [
              "array([[ 0.24542752],\n",
              "       [-0.01646242],\n",
              "       [-0.00642867]])"
            ]
          },
          "metadata": {
            "tags": []
          },
          "execution_count": 17
        }
      ]
    },
    {
      "cell_type": "code",
      "metadata": {
        "id": "fpJPXnpovep3",
        "colab_type": "code",
        "colab": {}
      },
      "source": [
        "# update weights 10,000 times\n",
        "import numpy as np\n",
        "\n",
        "weights = 2*np.random.random((2,1))-1\n",
        "weights\n",
        "\n",
        "weighted_sum = np.dot(X_train, weights)\n",
        "weighted_sum\n",
        "\n",
        "# output the activated value for the end of 1 training epoch\n",
        "y_pred = np.array(sigmoid(weighted_sum))\n",
        "y_pred\n",
        "\n",
        "# take difference of output and true values to calcuate error\n",
        "error = y_train - y_pred\n",
        "error\n",
        "\n",
        "# do gradient descent iterative updating of weights\n",
        "\n",
        "adjustments = error * sigmoid_der(weighted_sum)\n",
        "adjustments\n",
        "\n",
        "# adjusted weights\n",
        "weights = np.dot(X_train.T, adjustments)\n",
        "weights\n",
        "\n",
        "for iteration in range(10000):\n",
        "\n",
        "  # weighted sum of inputs/weights\n",
        "  weighted_sum = np.dot(X_train, weights)\n",
        "\n",
        "  # activate\n",
        "  activated_output = sigmoid(weighted_sum)\n",
        "\n",
        "  # cac error\n",
        "  error = y_train - activated_output\n",
        "  adjustments = error*sigmoid_der(weighted_sum)\n",
        "\n",
        "  #update weights\n",
        "  weights += np.dot(X_train.T, adjustments)\n",
        "\n",
        "print(\"weights after training\")\n",
        "print(weights)\n",
        "print(\" \")\n",
        "print(\"Output after training\")\n",
        "print(activated_output)"
      ],
      "execution_count": null,
      "outputs": []
    },
    {
      "cell_type": "markdown",
      "metadata": {
        "colab_type": "text",
        "id": "tc928NEda0UE"
      },
      "source": [
        "### Put it all together"
      ]
    },
    {
      "cell_type": "code",
      "metadata": {
        "colab_type": "code",
        "id": "5PGZR_caa18g",
        "colab": {
          "base_uri": "https://localhost:8080/",
          "height": 170
        },
        "outputId": "f2abbd4f-5516-4071-8d36-006907062b1b"
      },
      "source": [
        "# Steps we've already done: \n",
        "# 1. Randomly Initialized Weights already. Those are in memory as `weights`\n",
        "# 2. We've already got input data & correct_outputs\n",
        "\n",
        "\n",
        "# Update our weights 10,000 times - (fingers crossed that this process reduces error)\n",
        "for iteration in range(10000):\n",
        "    \n",
        "    # Weighted sum of inputs / weights\n",
        "    weighted_sum = np.dot(inputs, weights)\n",
        "    \n",
        "    # Activate!\n",
        "    activated_output = sigmoid(weighted_sum)\n",
        "    \n",
        "    # Cac error\n",
        "    error = correct_outputs - activated_output\n",
        "    \n",
        "    adjustments = error * sigmoid_derivative(weighted_sum)\n",
        "    \n",
        "    # Update the Weights\n",
        "    weights += np.dot(inputs.T, adjustments)\n",
        "    \n",
        "print(\"Weights after training\")\n",
        "print(weights)\n",
        "\n",
        "print(\"Output after training\")\n",
        "print(activated_output)"
      ],
      "execution_count": 32,
      "outputs": [
        {
          "output_type": "stream",
          "text": [
            "Weights after training\n",
            "[[10.38037646]\n",
            " [-0.20670201]\n",
            " [-4.98433207]]\n",
            "Output after training\n",
            "[[0.00679799]\n",
            " [0.9944551 ]\n",
            " [0.99548587]\n",
            " [0.00553558]]\n"
          ],
          "name": "stdout"
        }
      ]
    },
    {
      "cell_type": "code",
      "metadata": {
        "id": "-UP27164-i9W",
        "colab_type": "code",
        "colab": {
          "base_uri": "https://localhost:8080/",
          "height": 170
        },
        "outputId": "b0be920e-5bd9-4ff2-fa67-43fd57c81aec"
      },
      "source": [
        "def my_func(inputs, weights, correct_outputs):\n",
        "  for iteration in range(10000):\n",
        "    \n",
        "    # Weighted sum of inputs / weights\n",
        "    weighted_sum = np.dot(inputs, weights)\n",
        "    \n",
        "    # Activate!\n",
        "    activated_output = sigmoid(weighted_sum)\n",
        "    \n",
        "    # Cac error\n",
        "    error = correct_outputs - activated_output\n",
        "    \n",
        "    adjustments = error * sigmoid_derivative(weighted_sum)\n",
        "    \n",
        "    # Update the Weights\n",
        "    weights += np.dot(inputs.T, adjustments)\n",
        "    \n",
        "  print(\"Weights after training\")\n",
        "  print(weights)\n",
        "\n",
        "  print(\"Output after training\")\n",
        "  print(activated_output)\n",
        "\n",
        "my_func(inputs, weights, correct_outputs)"
      ],
      "execution_count": 8,
      "outputs": [
        {
          "output_type": "stream",
          "text": [
            "Weights after training\n",
            "[[10.02236786]\n",
            " [-0.20739467]\n",
            " [-4.80476564]]\n",
            "Output after training\n",
            "[[0.00812437]\n",
            " [0.99337443]\n",
            " [0.99460872]\n",
            " [0.00661273]]\n"
          ],
          "name": "stdout"
        }
      ]
    },
    {
      "cell_type": "markdown",
      "metadata": {
        "colab_type": "text",
        "id": "sCeW6EVAu-jt"
      },
      "source": [
        "### Perceptrons can classify linearly separable classes\n",
        "\n",
        "This is a demo of code prepared by K Hong in a blog post available [here](https://www.bogotobogo.com/python/scikit-learn/Perceptron_Model_with_Iris_DataSet.php). Hong's implementation is based on a implementation in __Python Machine Learning__\n",
        "by Sebastian Raschka. \n",
        "\n",
        "This demo is here for two reasons: \n",
        "1. Show you a full class implementation of a perceptron (something you'll be working on in the assignment)\n",
        "2. Show graphically a perceptron ability to linearly separate classes. "
      ]
    },
    {
      "cell_type": "code",
      "metadata": {
        "colab_type": "code",
        "id": "EYbebbPwu91r",
        "colab": {
          "base_uri": "https://localhost:8080/",
          "height": 198
        },
        "outputId": "39803ec5-44cb-4a9b-fca7-bde1c34d0073"
      },
      "source": [
        "import pandas as pd\n",
        "import numpy as np\n",
        "import matplotlib.pyplot as plt\n",
        "\n",
        "df = pd.read_csv('https://archive.ics.uci.edu/ml/machine-learning-databases/iris/iris.data', header=None)\n",
        "\n",
        "# Grab 50 versicolor and 50 virginica\n",
        "df.iloc[145:150, 0:5]"
      ],
      "execution_count": 20,
      "outputs": [
        {
          "output_type": "execute_result",
          "data": {
            "text/html": [
              "<div>\n",
              "<style scoped>\n",
              "    .dataframe tbody tr th:only-of-type {\n",
              "        vertical-align: middle;\n",
              "    }\n",
              "\n",
              "    .dataframe tbody tr th {\n",
              "        vertical-align: top;\n",
              "    }\n",
              "\n",
              "    .dataframe thead th {\n",
              "        text-align: right;\n",
              "    }\n",
              "</style>\n",
              "<table border=\"1\" class=\"dataframe\">\n",
              "  <thead>\n",
              "    <tr style=\"text-align: right;\">\n",
              "      <th></th>\n",
              "      <th>0</th>\n",
              "      <th>1</th>\n",
              "      <th>2</th>\n",
              "      <th>3</th>\n",
              "      <th>4</th>\n",
              "    </tr>\n",
              "  </thead>\n",
              "  <tbody>\n",
              "    <tr>\n",
              "      <th>145</th>\n",
              "      <td>6.7</td>\n",
              "      <td>3.0</td>\n",
              "      <td>5.2</td>\n",
              "      <td>2.3</td>\n",
              "      <td>Iris-virginica</td>\n",
              "    </tr>\n",
              "    <tr>\n",
              "      <th>146</th>\n",
              "      <td>6.3</td>\n",
              "      <td>2.5</td>\n",
              "      <td>5.0</td>\n",
              "      <td>1.9</td>\n",
              "      <td>Iris-virginica</td>\n",
              "    </tr>\n",
              "    <tr>\n",
              "      <th>147</th>\n",
              "      <td>6.5</td>\n",
              "      <td>3.0</td>\n",
              "      <td>5.2</td>\n",
              "      <td>2.0</td>\n",
              "      <td>Iris-virginica</td>\n",
              "    </tr>\n",
              "    <tr>\n",
              "      <th>148</th>\n",
              "      <td>6.2</td>\n",
              "      <td>3.4</td>\n",
              "      <td>5.4</td>\n",
              "      <td>2.3</td>\n",
              "      <td>Iris-virginica</td>\n",
              "    </tr>\n",
              "    <tr>\n",
              "      <th>149</th>\n",
              "      <td>5.9</td>\n",
              "      <td>3.0</td>\n",
              "      <td>5.1</td>\n",
              "      <td>1.8</td>\n",
              "      <td>Iris-virginica</td>\n",
              "    </tr>\n",
              "  </tbody>\n",
              "</table>\n",
              "</div>"
            ],
            "text/plain": [
              "       0    1    2    3               4\n",
              "145  6.7  3.0  5.2  2.3  Iris-virginica\n",
              "146  6.3  2.5  5.0  1.9  Iris-virginica\n",
              "147  6.5  3.0  5.2  2.0  Iris-virginica\n",
              "148  6.2  3.4  5.4  2.3  Iris-virginica\n",
              "149  5.9  3.0  5.1  1.8  Iris-virginica"
            ]
          },
          "metadata": {
            "tags": []
          },
          "execution_count": 20
        }
      ]
    },
    {
      "cell_type": "code",
      "metadata": {
        "colab_type": "code",
        "id": "CgwUISn9u8xo",
        "colab": {
          "base_uri": "https://localhost:8080/",
          "height": 535
        },
        "outputId": "9d7b33e5-6b94-445a-e0ec-01f5c078f11f"
      },
      "source": [
        "y = df.iloc[0:100, 4].values\n",
        "y"
      ],
      "execution_count": 21,
      "outputs": [
        {
          "output_type": "execute_result",
          "data": {
            "text/plain": [
              "array(['Iris-setosa', 'Iris-setosa', 'Iris-setosa', 'Iris-setosa',\n",
              "       'Iris-setosa', 'Iris-setosa', 'Iris-setosa', 'Iris-setosa',\n",
              "       'Iris-setosa', 'Iris-setosa', 'Iris-setosa', 'Iris-setosa',\n",
              "       'Iris-setosa', 'Iris-setosa', 'Iris-setosa', 'Iris-setosa',\n",
              "       'Iris-setosa', 'Iris-setosa', 'Iris-setosa', 'Iris-setosa',\n",
              "       'Iris-setosa', 'Iris-setosa', 'Iris-setosa', 'Iris-setosa',\n",
              "       'Iris-setosa', 'Iris-setosa', 'Iris-setosa', 'Iris-setosa',\n",
              "       'Iris-setosa', 'Iris-setosa', 'Iris-setosa', 'Iris-setosa',\n",
              "       'Iris-setosa', 'Iris-setosa', 'Iris-setosa', 'Iris-setosa',\n",
              "       'Iris-setosa', 'Iris-setosa', 'Iris-setosa', 'Iris-setosa',\n",
              "       'Iris-setosa', 'Iris-setosa', 'Iris-setosa', 'Iris-setosa',\n",
              "       'Iris-setosa', 'Iris-setosa', 'Iris-setosa', 'Iris-setosa',\n",
              "       'Iris-setosa', 'Iris-setosa', 'Iris-versicolor', 'Iris-versicolor',\n",
              "       'Iris-versicolor', 'Iris-versicolor', 'Iris-versicolor',\n",
              "       'Iris-versicolor', 'Iris-versicolor', 'Iris-versicolor',\n",
              "       'Iris-versicolor', 'Iris-versicolor', 'Iris-versicolor',\n",
              "       'Iris-versicolor', 'Iris-versicolor', 'Iris-versicolor',\n",
              "       'Iris-versicolor', 'Iris-versicolor', 'Iris-versicolor',\n",
              "       'Iris-versicolor', 'Iris-versicolor', 'Iris-versicolor',\n",
              "       'Iris-versicolor', 'Iris-versicolor', 'Iris-versicolor',\n",
              "       'Iris-versicolor', 'Iris-versicolor', 'Iris-versicolor',\n",
              "       'Iris-versicolor', 'Iris-versicolor', 'Iris-versicolor',\n",
              "       'Iris-versicolor', 'Iris-versicolor', 'Iris-versicolor',\n",
              "       'Iris-versicolor', 'Iris-versicolor', 'Iris-versicolor',\n",
              "       'Iris-versicolor', 'Iris-versicolor', 'Iris-versicolor',\n",
              "       'Iris-versicolor', 'Iris-versicolor', 'Iris-versicolor',\n",
              "       'Iris-versicolor', 'Iris-versicolor', 'Iris-versicolor',\n",
              "       'Iris-versicolor', 'Iris-versicolor', 'Iris-versicolor',\n",
              "       'Iris-versicolor', 'Iris-versicolor', 'Iris-versicolor'],\n",
              "      dtype=object)"
            ]
          },
          "metadata": {
            "tags": []
          },
          "execution_count": 21
        }
      ]
    },
    {
      "cell_type": "code",
      "metadata": {
        "colab_type": "code",
        "id": "HpLmUPCau8Nm",
        "colab": {
          "base_uri": "https://localhost:8080/",
          "height": 121
        },
        "outputId": "cf2d00a4-f829-452e-89b4-f5bbdc21ded8"
      },
      "source": [
        "y = np.where(y == 'Iris-setosa', -1, 1)\n",
        "y"
      ],
      "execution_count": 22,
      "outputs": [
        {
          "output_type": "execute_result",
          "data": {
            "text/plain": [
              "array([-1, -1, -1, -1, -1, -1, -1, -1, -1, -1, -1, -1, -1, -1, -1, -1, -1,\n",
              "       -1, -1, -1, -1, -1, -1, -1, -1, -1, -1, -1, -1, -1, -1, -1, -1, -1,\n",
              "       -1, -1, -1, -1, -1, -1, -1, -1, -1, -1, -1, -1, -1, -1, -1, -1,  1,\n",
              "        1,  1,  1,  1,  1,  1,  1,  1,  1,  1,  1,  1,  1,  1,  1,  1,  1,\n",
              "        1,  1,  1,  1,  1,  1,  1,  1,  1,  1,  1,  1,  1,  1,  1,  1,  1,\n",
              "        1,  1,  1,  1,  1,  1,  1,  1,  1,  1,  1,  1,  1,  1,  1])"
            ]
          },
          "metadata": {
            "tags": []
          },
          "execution_count": 22
        }
      ]
    },
    {
      "cell_type": "code",
      "metadata": {
        "id": "xb0Bk-Te7R9W",
        "colab_type": "code",
        "colab": {
          "base_uri": "https://localhost:8080/",
          "height": 121
        },
        "outputId": "20e46417-f7db-4515-9838-b33e7a09c0cc"
      },
      "source": [
        "y"
      ],
      "execution_count": 23,
      "outputs": [
        {
          "output_type": "execute_result",
          "data": {
            "text/plain": [
              "array([-1, -1, -1, -1, -1, -1, -1, -1, -1, -1, -1, -1, -1, -1, -1, -1, -1,\n",
              "       -1, -1, -1, -1, -1, -1, -1, -1, -1, -1, -1, -1, -1, -1, -1, -1, -1,\n",
              "       -1, -1, -1, -1, -1, -1, -1, -1, -1, -1, -1, -1, -1, -1, -1, -1,  1,\n",
              "        1,  1,  1,  1,  1,  1,  1,  1,  1,  1,  1,  1,  1,  1,  1,  1,  1,\n",
              "        1,  1,  1,  1,  1,  1,  1,  1,  1,  1,  1,  1,  1,  1,  1,  1,  1,\n",
              "        1,  1,  1,  1,  1,  1,  1,  1,  1,  1,  1,  1,  1,  1,  1])"
            ]
          },
          "metadata": {
            "tags": []
          },
          "execution_count": 23
        }
      ]
    },
    {
      "cell_type": "code",
      "metadata": {
        "colab_type": "code",
        "id": "3ngdKVNhu7h1",
        "colab": {
          "base_uri": "https://localhost:8080/",
          "height": 1000
        },
        "outputId": "d95cf399-c3a0-459f-87b1-3c8bd8a72aa2"
      },
      "source": [
        "X = df.iloc[0:100, [0, 2]].values\n",
        "X"
      ],
      "execution_count": 24,
      "outputs": [
        {
          "output_type": "execute_result",
          "data": {
            "text/plain": [
              "array([[5.1, 1.4],\n",
              "       [4.9, 1.4],\n",
              "       [4.7, 1.3],\n",
              "       [4.6, 1.5],\n",
              "       [5. , 1.4],\n",
              "       [5.4, 1.7],\n",
              "       [4.6, 1.4],\n",
              "       [5. , 1.5],\n",
              "       [4.4, 1.4],\n",
              "       [4.9, 1.5],\n",
              "       [5.4, 1.5],\n",
              "       [4.8, 1.6],\n",
              "       [4.8, 1.4],\n",
              "       [4.3, 1.1],\n",
              "       [5.8, 1.2],\n",
              "       [5.7, 1.5],\n",
              "       [5.4, 1.3],\n",
              "       [5.1, 1.4],\n",
              "       [5.7, 1.7],\n",
              "       [5.1, 1.5],\n",
              "       [5.4, 1.7],\n",
              "       [5.1, 1.5],\n",
              "       [4.6, 1. ],\n",
              "       [5.1, 1.7],\n",
              "       [4.8, 1.9],\n",
              "       [5. , 1.6],\n",
              "       [5. , 1.6],\n",
              "       [5.2, 1.5],\n",
              "       [5.2, 1.4],\n",
              "       [4.7, 1.6],\n",
              "       [4.8, 1.6],\n",
              "       [5.4, 1.5],\n",
              "       [5.2, 1.5],\n",
              "       [5.5, 1.4],\n",
              "       [4.9, 1.5],\n",
              "       [5. , 1.2],\n",
              "       [5.5, 1.3],\n",
              "       [4.9, 1.5],\n",
              "       [4.4, 1.3],\n",
              "       [5.1, 1.5],\n",
              "       [5. , 1.3],\n",
              "       [4.5, 1.3],\n",
              "       [4.4, 1.3],\n",
              "       [5. , 1.6],\n",
              "       [5.1, 1.9],\n",
              "       [4.8, 1.4],\n",
              "       [5.1, 1.6],\n",
              "       [4.6, 1.4],\n",
              "       [5.3, 1.5],\n",
              "       [5. , 1.4],\n",
              "       [7. , 4.7],\n",
              "       [6.4, 4.5],\n",
              "       [6.9, 4.9],\n",
              "       [5.5, 4. ],\n",
              "       [6.5, 4.6],\n",
              "       [5.7, 4.5],\n",
              "       [6.3, 4.7],\n",
              "       [4.9, 3.3],\n",
              "       [6.6, 4.6],\n",
              "       [5.2, 3.9],\n",
              "       [5. , 3.5],\n",
              "       [5.9, 4.2],\n",
              "       [6. , 4. ],\n",
              "       [6.1, 4.7],\n",
              "       [5.6, 3.6],\n",
              "       [6.7, 4.4],\n",
              "       [5.6, 4.5],\n",
              "       [5.8, 4.1],\n",
              "       [6.2, 4.5],\n",
              "       [5.6, 3.9],\n",
              "       [5.9, 4.8],\n",
              "       [6.1, 4. ],\n",
              "       [6.3, 4.9],\n",
              "       [6.1, 4.7],\n",
              "       [6.4, 4.3],\n",
              "       [6.6, 4.4],\n",
              "       [6.8, 4.8],\n",
              "       [6.7, 5. ],\n",
              "       [6. , 4.5],\n",
              "       [5.7, 3.5],\n",
              "       [5.5, 3.8],\n",
              "       [5.5, 3.7],\n",
              "       [5.8, 3.9],\n",
              "       [6. , 5.1],\n",
              "       [5.4, 4.5],\n",
              "       [6. , 4.5],\n",
              "       [6.7, 4.7],\n",
              "       [6.3, 4.4],\n",
              "       [5.6, 4.1],\n",
              "       [5.5, 4. ],\n",
              "       [5.5, 4.4],\n",
              "       [6.1, 4.6],\n",
              "       [5.8, 4. ],\n",
              "       [5. , 3.3],\n",
              "       [5.6, 4.2],\n",
              "       [5.7, 4.2],\n",
              "       [5.7, 4.2],\n",
              "       [6.2, 4.3],\n",
              "       [5.1, 3. ],\n",
              "       [5.7, 4.1]])"
            ]
          },
          "metadata": {
            "tags": []
          },
          "execution_count": 24
        }
      ]
    },
    {
      "cell_type": "code",
      "metadata": {
        "colab_type": "code",
        "id": "qMwijtrju62D",
        "colab": {
          "base_uri": "https://localhost:8080/",
          "height": 279
        },
        "outputId": "7c8a2a34-fbb0-446d-9e2f-d66b758f0d46"
      },
      "source": [
        "plt.scatter(X[:50, 0], X[:50, 1], color='red', marker='o', label='setosa')\n",
        "plt.scatter(X[50:100, 0], X[50:100, 1], color='blue', marker='x', label='versicolor')\n",
        "plt.xlabel('petal length')\n",
        "plt.ylabel('sepal length')\n",
        "plt.legend(loc='upper left')\n",
        "plt.show()"
      ],
      "execution_count": 25,
      "outputs": [
        {
          "output_type": "display_data",
          "data": {
            "image/png": "[encoded data removed]",
            "text/plain": [
              "<Figure size 432x288 with 1 Axes>"
            ]
          },
          "metadata": {
            "tags": [],
            "needs_background": "light"
          }
        }
      ]
    },
    {
      "cell_type": "code",
      "metadata": {
        "colab_type": "code",
        "id": "4Ax_1Ewsu59o",
        "colab": {}
      },
      "source": [
        "# This code is from 1958 paper\n",
        "\n",
        "class Perceptron(object):\n",
        "    \n",
        "    def __init__(self, rate = 0.01, niter = 10):\n",
        "        self.rate = rate\n",
        "        self.niter = niter\n",
        "        \n",
        "    def fit(self, X, y):\n",
        "        \"\"\"Fit training data\n",
        "        X : Training vectors, X.shape : [#samples, #features]\n",
        "        y : Target values, y.shape : [#samples]\n",
        "        \"\"\"\n",
        "\n",
        "        # weights\n",
        "        self.weight = np.zeros(1 + X.shape[1])\n",
        "\n",
        "        # Number of misclassifications\n",
        "        self.errors = []  # Number of misclassifications\n",
        "\n",
        "        for i in range(self.niter):\n",
        "          err = 0\n",
        "          for xi, target in zip(X, y):\n",
        "            delta_w = self.rate * (target - self.predict(xi))\n",
        "            self.weight[1:] += delta_w * xi\n",
        "            self.weight[0] += delta_w\n",
        "            err += int(delta_w != 0.0)\n",
        "          self.errors.append(err)\n",
        "        return self\n",
        "\n",
        "    def net_input(self, X):\n",
        "        \"\"\"Calculate net input\"\"\"\n",
        "        return np.dot(X, self.weight[1:]) + self.weight[0]\n",
        "\n",
        "    def predict(self, X):\n",
        "        \"\"\"Return class label after unit step\"\"\"\n",
        "        \"\"\" Default Step Function\"\"\"\n",
        "        return np.where(self.net_input(X) >= 0.0, 1, -1)"
      ],
      "execution_count": 26,
      "outputs": []
    },
    {
      "cell_type": "code",
      "metadata": {
        "colab_type": "code",
        "id": "ftFsGyvpu5iC",
        "colab": {
          "base_uri": "https://localhost:8080/",
          "height": 279
        },
        "outputId": "497044e5-e71e-44b9-c2a2-af5147ad623f"
      },
      "source": [
        "pn = Perceptron(0.1, 10)\n",
        "pn.fit(X, y)\n",
        "plt.plot(range(1, len(pn.errors) + 1), pn.errors, marker='o')\n",
        "plt.xlabel('Epochs')\n",
        "plt.ylabel('Number of misclassifications')\n",
        "plt.show()"
      ],
      "execution_count": 27,
      "outputs": [
        {
          "output_type": "display_data",
          "data": {
            "image/png": "[encoded data removed]",
            "text/plain": [
              "<Figure size 432x288 with 1 Axes>"
            ]
          },
          "metadata": {
            "tags": [],
            "needs_background": "light"
          }
        }
      ]
    },
    {
      "cell_type": "code",
      "metadata": {
        "colab_type": "code",
        "id": "4VAnfC7fu5P7",
        "colab": {}
      },
      "source": [
        "from matplotlib.colors import ListedColormap\n",
        "def plot_decision_regions(X, y, classifier, resolution=0.02):\n",
        "  # setup marker generator and color map\n",
        "  markers = ('s', 'x', 'o', '^', 'v')\n",
        "  colors = ('red', 'blue', 'lightgreen', 'gray', 'cyan')\n",
        "  cmap = ListedColormap(colors[:len(np.unique(y))])\n",
        "\n",
        "  # plot the decision surface\n",
        "  x1_min, x1_max = X[:,  0].min() - 1, X[:, 0].max() + 1\n",
        "  x2_min, x2_max = X[:, 1].min() - 1, X[:, 1].max() + 1\n",
        "  xx1, xx2 = np.meshgrid(np.arange(x1_min, x1_max, resolution),\n",
        "  np.arange(x2_min, x2_max, resolution))\n",
        "  Z = classifier.predict(np.array([xx1.ravel(), xx2.ravel()]).T)\n",
        "  Z = Z.reshape(xx1.shape)\n",
        "  plt.contourf(xx1, xx2, Z, alpha=0.4, cmap=cmap)\n",
        "  plt.xlim(xx1.min(), xx1.max())\n",
        "  plt.ylim(xx2.min(), xx2.max())\n",
        "\n",
        "  # plot class samples\n",
        "  for idx, cl in enumerate(np.unique(y)):\n",
        "    plt.scatter(x=X[y == cl, 0], y=X[y == cl, 1],\n",
        "    alpha=0.8, c=cmap(idx),\n",
        "    marker=markers[idx], label=cl)"
      ],
      "execution_count": 28,
      "outputs": []
    },
    {
      "cell_type": "code",
      "metadata": {
        "colab_type": "code",
        "id": "ntqksaQjr7Cm",
        "colab": {
          "base_uri": "https://localhost:8080/",
          "height": 334
        },
        "outputId": "e0c569a9-bedd-464e-8257-9ed422bb2275"
      },
      "source": [
        "plot_decision_regions(X, y, classifier=pn)\n",
        "plt.xlabel('sepal length [cm]')\n",
        "plt.ylabel('petal length [cm]')\n",
        "plt.legend(loc='upper left')\n",
        "plt.show()"
      ],
      "execution_count": 29,
      "outputs": [
        {
          "output_type": "stream",
          "text": [
            "*c* argument looks like a single numeric RGB or RGBA sequence, which should be avoided as value-mapping will have precedence in case its length matches with *x* & *y*.  Please use the *color* keyword-argument or provide a 2-D array with a single row if you intend to specify the same RGB or RGBA value for all points.\n",
            "*c* argument looks like a single numeric RGB or RGBA sequence, which should be avoided as value-mapping will have precedence in case its length matches with *x* & *y*.  Please use the *color* keyword-argument or provide a 2-D array with a single row if you intend to specify the same RGB or RGBA value for all points.\n"
          ],
          "name": "stderr"
        },
        {
          "output_type": "display_data",
          "data": {
            "image/png": "[encoded data removed]",
            "text/plain": [
              "<Figure size 432x288 with 1 Axes>"
            ]
          },
          "metadata": {
            "tags": [],
            "needs_background": "light"
          }
        }
      ]
    },
    {
      "cell_type": "markdown",
      "metadata": {
        "id": "XYL3Dt8Z7R-X",
        "colab_type": "text"
      },
      "source": [
        "## Challenge\n",
        "\n",
        "You will apply the perceptron to a dataset during today's assignment."
      ]
    },
    {
      "cell_type": "markdown",
      "metadata": {
        "colab_type": "text",
        "id": "ucUP72uiyQ_0",
        "toc-hr-collapsed": false
      },
      "source": [
        "# Sources\n",
        "Knowledge doesn't come out of a vacuum. Neither does our code. We build off the work of other incredibly intelligent and harding work people. The academic and impementation sections are our way of saying **Thank You** to them. The external review material is stuff we've watched or read in the past we think could also help you. \n",
        "\n",
        "## Academic References\n",
        "(i.e. Theory and research we referenced in preparing this content)\n",
        "- McCulloch, W.S. & Pitts, W. Bulletin of Mathematical Biophysics (1943) 5: 115. https://doi.org/10.1007/BF02478259\n",
        "- Rosenblatt, F. (1958). The perceptron: A probabilistic model for information storage and organization in the brain. Psychological Review, 65(6), 386–408. https://doi.org/10.1037/h0042519\n",
        "- Goodfellow, I., Bengio, Y., & Courville, A. (2016). Deep learning.\n",
        "\n",
        "## Implementation References\n",
        "(i.e. Stuff we used / referenced to make the code in this notebook)\n",
        "- [NN-SVG](http://alexlenail.me/NN-SVG/index.html) by Alex Lenail. Used to generate diagrams for this notebook. \n",
        "- Alammar, Jay (2016). The Illustrated Transformer [A Visual and Interactive Guide to the Basics of Neural Networks](https://jalammar.github.io/visual-interactive-guide-basics-neural-networks/).\n",
        "- [SINGLE LAYER NEURAL NETWORK - PERCEPTRON MODEL ON THE IRIS DATASET USING HEAVISIDE STEP ACTIVATION FUNCTION](https://www.bogotobogo.com/python/scikit-learn/Perceptron_Model_with_Iris_DataSet.php) by K Hong. For Perceptron Demo.\n",
        "\n",
        "## External Review Material\n",
        "(i.e. Stuff we recommend watching to go to the next level of understanding)\n",
        "\n",
        "- [3 Blue 1 Brown Neural Network Videos](https://youtu.be/aircAruvnKk)\n",
        "- [Andrew Ng Neural Network Introduction Videos](https://www.youtube.com/watch?v=1ZhtwInuOD0&list=PLLssT5z_DsK-h9vYZkQkYNWcItqhlRJLN&index=43)"
      ]
    }
  ]
}